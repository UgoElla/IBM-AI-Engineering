{
 "cells": [
  {
   "cell_type": "markdown",
   "id": "e78ed34b-6e87-4e83-9df2-8571028dd7bd",
   "metadata": {},
   "source": [
    "Download and Clean Data"
   ]
  },
  {
   "cell_type": "code",
   "execution_count": 1,
   "id": "c1c60aa0-ac0c-4228-89c7-05c2c4470ca4",
   "metadata": {},
   "outputs": [],
   "source": [
    "#import neccessary libraries\n",
    "import pandas as pd\n",
    "import numpy as np"
   ]
  },
  {
   "cell_type": "markdown",
   "id": "4a98dac2-6cc0-4d47-9697-a7c96e30919c",
   "metadata": {},
   "source": [
    "Let's download the data and read it into a pandas dataframe."
   ]
  },
  {
   "cell_type": "code",
   "execution_count": 5,
   "id": "c4f2b06d-bda3-46aa-8775-af7cfc814ff2",
   "metadata": {},
   "outputs": [],
   "source": [
    "concrete_data = pd.read_csv('https://cocl.us/concrete_data')"
   ]
  },
  {
   "cell_type": "code",
   "execution_count": 6,
   "id": "4cbe580b-c105-4a54-b09d-dc6cbecb81b2",
   "metadata": {},
   "outputs": [
    {
     "data": {
      "text/html": [
       "<div>\n",
       "<style scoped>\n",
       "    .dataframe tbody tr th:only-of-type {\n",
       "        vertical-align: middle;\n",
       "    }\n",
       "\n",
       "    .dataframe tbody tr th {\n",
       "        vertical-align: top;\n",
       "    }\n",
       "\n",
       "    .dataframe thead th {\n",
       "        text-align: right;\n",
       "    }\n",
       "</style>\n",
       "<table border=\"1\" class=\"dataframe\">\n",
       "  <thead>\n",
       "    <tr style=\"text-align: right;\">\n",
       "      <th></th>\n",
       "      <th>Cement</th>\n",
       "      <th>Blast Furnace Slag</th>\n",
       "      <th>Fly Ash</th>\n",
       "      <th>Water</th>\n",
       "      <th>Superplasticizer</th>\n",
       "      <th>Coarse Aggregate</th>\n",
       "      <th>Fine Aggregate</th>\n",
       "      <th>Age</th>\n",
       "      <th>Strength</th>\n",
       "    </tr>\n",
       "  </thead>\n",
       "  <tbody>\n",
       "    <tr>\n",
       "      <th>0</th>\n",
       "      <td>540.0</td>\n",
       "      <td>0.0</td>\n",
       "      <td>0.0</td>\n",
       "      <td>162.0</td>\n",
       "      <td>2.5</td>\n",
       "      <td>1040.0</td>\n",
       "      <td>676.0</td>\n",
       "      <td>28</td>\n",
       "      <td>79.99</td>\n",
       "    </tr>\n",
       "    <tr>\n",
       "      <th>1</th>\n",
       "      <td>540.0</td>\n",
       "      <td>0.0</td>\n",
       "      <td>0.0</td>\n",
       "      <td>162.0</td>\n",
       "      <td>2.5</td>\n",
       "      <td>1055.0</td>\n",
       "      <td>676.0</td>\n",
       "      <td>28</td>\n",
       "      <td>61.89</td>\n",
       "    </tr>\n",
       "    <tr>\n",
       "      <th>2</th>\n",
       "      <td>332.5</td>\n",
       "      <td>142.5</td>\n",
       "      <td>0.0</td>\n",
       "      <td>228.0</td>\n",
       "      <td>0.0</td>\n",
       "      <td>932.0</td>\n",
       "      <td>594.0</td>\n",
       "      <td>270</td>\n",
       "      <td>40.27</td>\n",
       "    </tr>\n",
       "    <tr>\n",
       "      <th>3</th>\n",
       "      <td>332.5</td>\n",
       "      <td>142.5</td>\n",
       "      <td>0.0</td>\n",
       "      <td>228.0</td>\n",
       "      <td>0.0</td>\n",
       "      <td>932.0</td>\n",
       "      <td>594.0</td>\n",
       "      <td>365</td>\n",
       "      <td>41.05</td>\n",
       "    </tr>\n",
       "    <tr>\n",
       "      <th>4</th>\n",
       "      <td>198.6</td>\n",
       "      <td>132.4</td>\n",
       "      <td>0.0</td>\n",
       "      <td>192.0</td>\n",
       "      <td>0.0</td>\n",
       "      <td>978.4</td>\n",
       "      <td>825.5</td>\n",
       "      <td>360</td>\n",
       "      <td>44.30</td>\n",
       "    </tr>\n",
       "  </tbody>\n",
       "</table>\n",
       "</div>"
      ],
      "text/plain": [
       "   Cement  Blast Furnace Slag  Fly Ash  Water  Superplasticizer  \\\n",
       "0   540.0                 0.0      0.0  162.0               2.5   \n",
       "1   540.0                 0.0      0.0  162.0               2.5   \n",
       "2   332.5               142.5      0.0  228.0               0.0   \n",
       "3   332.5               142.5      0.0  228.0               0.0   \n",
       "4   198.6               132.4      0.0  192.0               0.0   \n",
       "\n",
       "   Coarse Aggregate  Fine Aggregate  Age  Strength  \n",
       "0            1040.0           676.0   28     79.99  \n",
       "1            1055.0           676.0   28     61.89  \n",
       "2             932.0           594.0  270     40.27  \n",
       "3             932.0           594.0  365     41.05  \n",
       "4             978.4           825.5  360     44.30  "
      ]
     },
     "execution_count": 6,
     "metadata": {},
     "output_type": "execute_result"
    }
   ],
   "source": [
    "concrete_data.head()"
   ]
  },
  {
   "cell_type": "markdown",
   "id": "8cbac3b0-4ec1-42c6-8b01-bbdf129acd58",
   "metadata": {},
   "source": [
    "Check how many data points we have."
   ]
  },
  {
   "cell_type": "code",
   "execution_count": 7,
   "id": "dc406986-26d4-4caf-9e7f-431828434575",
   "metadata": {},
   "outputs": [
    {
     "data": {
      "text/plain": [
       "(1030, 9)"
      ]
     },
     "execution_count": 7,
     "metadata": {},
     "output_type": "execute_result"
    }
   ],
   "source": [
    "concrete_data.shape"
   ]
  },
  {
   "cell_type": "markdown",
   "id": "2b675532-cab2-4fba-9696-c71ac918c051",
   "metadata": {},
   "source": [
    "Check for the statistical data of our dataset"
   ]
  },
  {
   "cell_type": "code",
   "execution_count": 8,
   "id": "423b1b43-edf1-4a54-be56-d7f4940c1b4c",
   "metadata": {},
   "outputs": [
    {
     "data": {
      "text/html": [
       "<div>\n",
       "<style scoped>\n",
       "    .dataframe tbody tr th:only-of-type {\n",
       "        vertical-align: middle;\n",
       "    }\n",
       "\n",
       "    .dataframe tbody tr th {\n",
       "        vertical-align: top;\n",
       "    }\n",
       "\n",
       "    .dataframe thead th {\n",
       "        text-align: right;\n",
       "    }\n",
       "</style>\n",
       "<table border=\"1\" class=\"dataframe\">\n",
       "  <thead>\n",
       "    <tr style=\"text-align: right;\">\n",
       "      <th></th>\n",
       "      <th>Cement</th>\n",
       "      <th>Blast Furnace Slag</th>\n",
       "      <th>Fly Ash</th>\n",
       "      <th>Water</th>\n",
       "      <th>Superplasticizer</th>\n",
       "      <th>Coarse Aggregate</th>\n",
       "      <th>Fine Aggregate</th>\n",
       "      <th>Age</th>\n",
       "      <th>Strength</th>\n",
       "    </tr>\n",
       "  </thead>\n",
       "  <tbody>\n",
       "    <tr>\n",
       "      <th>count</th>\n",
       "      <td>1030.000000</td>\n",
       "      <td>1030.000000</td>\n",
       "      <td>1030.000000</td>\n",
       "      <td>1030.000000</td>\n",
       "      <td>1030.000000</td>\n",
       "      <td>1030.000000</td>\n",
       "      <td>1030.000000</td>\n",
       "      <td>1030.000000</td>\n",
       "      <td>1030.000000</td>\n",
       "    </tr>\n",
       "    <tr>\n",
       "      <th>mean</th>\n",
       "      <td>281.167864</td>\n",
       "      <td>73.895825</td>\n",
       "      <td>54.188350</td>\n",
       "      <td>181.567282</td>\n",
       "      <td>6.204660</td>\n",
       "      <td>972.918932</td>\n",
       "      <td>773.580485</td>\n",
       "      <td>45.662136</td>\n",
       "      <td>35.817961</td>\n",
       "    </tr>\n",
       "    <tr>\n",
       "      <th>std</th>\n",
       "      <td>104.506364</td>\n",
       "      <td>86.279342</td>\n",
       "      <td>63.997004</td>\n",
       "      <td>21.354219</td>\n",
       "      <td>5.973841</td>\n",
       "      <td>77.753954</td>\n",
       "      <td>80.175980</td>\n",
       "      <td>63.169912</td>\n",
       "      <td>16.705742</td>\n",
       "    </tr>\n",
       "    <tr>\n",
       "      <th>min</th>\n",
       "      <td>102.000000</td>\n",
       "      <td>0.000000</td>\n",
       "      <td>0.000000</td>\n",
       "      <td>121.800000</td>\n",
       "      <td>0.000000</td>\n",
       "      <td>801.000000</td>\n",
       "      <td>594.000000</td>\n",
       "      <td>1.000000</td>\n",
       "      <td>2.330000</td>\n",
       "    </tr>\n",
       "    <tr>\n",
       "      <th>25%</th>\n",
       "      <td>192.375000</td>\n",
       "      <td>0.000000</td>\n",
       "      <td>0.000000</td>\n",
       "      <td>164.900000</td>\n",
       "      <td>0.000000</td>\n",
       "      <td>932.000000</td>\n",
       "      <td>730.950000</td>\n",
       "      <td>7.000000</td>\n",
       "      <td>23.710000</td>\n",
       "    </tr>\n",
       "    <tr>\n",
       "      <th>50%</th>\n",
       "      <td>272.900000</td>\n",
       "      <td>22.000000</td>\n",
       "      <td>0.000000</td>\n",
       "      <td>185.000000</td>\n",
       "      <td>6.400000</td>\n",
       "      <td>968.000000</td>\n",
       "      <td>779.500000</td>\n",
       "      <td>28.000000</td>\n",
       "      <td>34.445000</td>\n",
       "    </tr>\n",
       "    <tr>\n",
       "      <th>75%</th>\n",
       "      <td>350.000000</td>\n",
       "      <td>142.950000</td>\n",
       "      <td>118.300000</td>\n",
       "      <td>192.000000</td>\n",
       "      <td>10.200000</td>\n",
       "      <td>1029.400000</td>\n",
       "      <td>824.000000</td>\n",
       "      <td>56.000000</td>\n",
       "      <td>46.135000</td>\n",
       "    </tr>\n",
       "    <tr>\n",
       "      <th>max</th>\n",
       "      <td>540.000000</td>\n",
       "      <td>359.400000</td>\n",
       "      <td>200.100000</td>\n",
       "      <td>247.000000</td>\n",
       "      <td>32.200000</td>\n",
       "      <td>1145.000000</td>\n",
       "      <td>992.600000</td>\n",
       "      <td>365.000000</td>\n",
       "      <td>82.600000</td>\n",
       "    </tr>\n",
       "  </tbody>\n",
       "</table>\n",
       "</div>"
      ],
      "text/plain": [
       "            Cement  Blast Furnace Slag      Fly Ash        Water  \\\n",
       "count  1030.000000         1030.000000  1030.000000  1030.000000   \n",
       "mean    281.167864           73.895825    54.188350   181.567282   \n",
       "std     104.506364           86.279342    63.997004    21.354219   \n",
       "min     102.000000            0.000000     0.000000   121.800000   \n",
       "25%     192.375000            0.000000     0.000000   164.900000   \n",
       "50%     272.900000           22.000000     0.000000   185.000000   \n",
       "75%     350.000000          142.950000   118.300000   192.000000   \n",
       "max     540.000000          359.400000   200.100000   247.000000   \n",
       "\n",
       "       Superplasticizer  Coarse Aggregate  Fine Aggregate          Age  \\\n",
       "count       1030.000000       1030.000000     1030.000000  1030.000000   \n",
       "mean           6.204660        972.918932      773.580485    45.662136   \n",
       "std            5.973841         77.753954       80.175980    63.169912   \n",
       "min            0.000000        801.000000      594.000000     1.000000   \n",
       "25%            0.000000        932.000000      730.950000     7.000000   \n",
       "50%            6.400000        968.000000      779.500000    28.000000   \n",
       "75%           10.200000       1029.400000      824.000000    56.000000   \n",
       "max           32.200000       1145.000000      992.600000   365.000000   \n",
       "\n",
       "          Strength  \n",
       "count  1030.000000  \n",
       "mean     35.817961  \n",
       "std      16.705742  \n",
       "min       2.330000  \n",
       "25%      23.710000  \n",
       "50%      34.445000  \n",
       "75%      46.135000  \n",
       "max      82.600000  "
      ]
     },
     "execution_count": 8,
     "metadata": {},
     "output_type": "execute_result"
    }
   ],
   "source": [
    "concrete_data.describe()"
   ]
  },
  {
   "cell_type": "markdown",
   "id": "26df341c-22e3-4bfc-ba7d-b74b81cf8959",
   "metadata": {},
   "source": [
    "Check for missing values"
   ]
  },
  {
   "cell_type": "code",
   "execution_count": 9,
   "id": "751e8731-03a5-4a55-8742-81b7a56cf328",
   "metadata": {},
   "outputs": [
    {
     "data": {
      "text/plain": [
       "Cement                0\n",
       "Blast Furnace Slag    0\n",
       "Fly Ash               0\n",
       "Water                 0\n",
       "Superplasticizer      0\n",
       "Coarse Aggregate      0\n",
       "Fine Aggregate        0\n",
       "Age                   0\n",
       "Strength              0\n",
       "dtype: int64"
      ]
     },
     "execution_count": 9,
     "metadata": {},
     "output_type": "execute_result"
    }
   ],
   "source": [
    "concrete_data.isnull().sum()"
   ]
  },
  {
   "cell_type": "markdown",
   "id": "8d30336c-340f-48ba-983e-1fa8a574af75",
   "metadata": {},
   "source": [
    "Split data into predictors and target"
   ]
  },
  {
   "cell_type": "code",
   "execution_count": 11,
   "id": "dd8014f2-6ee4-44a6-8b39-a32f39059eee",
   "metadata": {},
   "outputs": [],
   "source": [
    "concrete_data_columns = concrete_data.columns\n",
    "\n",
    "predictors = concrete_data[concrete_data_columns[concrete_data_columns != 'Strength']] # all columns except Strength\n",
    "target = concrete_data['Strength'] # Strength column"
   ]
  },
  {
   "cell_type": "markdown",
   "id": "51ba41bd-acc1-4868-b789-6fce5d373677",
   "metadata": {},
   "source": [
    "Let's do a quick sanity check of the predictors and the target dataframes."
   ]
  },
  {
   "cell_type": "code",
   "execution_count": 13,
   "id": "54c07fbe-1b17-48cb-a157-5b994d96c217",
   "metadata": {},
   "outputs": [
    {
     "data": {
      "text/html": [
       "<div>\n",
       "<style scoped>\n",
       "    .dataframe tbody tr th:only-of-type {\n",
       "        vertical-align: middle;\n",
       "    }\n",
       "\n",
       "    .dataframe tbody tr th {\n",
       "        vertical-align: top;\n",
       "    }\n",
       "\n",
       "    .dataframe thead th {\n",
       "        text-align: right;\n",
       "    }\n",
       "</style>\n",
       "<table border=\"1\" class=\"dataframe\">\n",
       "  <thead>\n",
       "    <tr style=\"text-align: right;\">\n",
       "      <th></th>\n",
       "      <th>Cement</th>\n",
       "      <th>Blast Furnace Slag</th>\n",
       "      <th>Fly Ash</th>\n",
       "      <th>Water</th>\n",
       "      <th>Superplasticizer</th>\n",
       "      <th>Coarse Aggregate</th>\n",
       "      <th>Fine Aggregate</th>\n",
       "      <th>Age</th>\n",
       "    </tr>\n",
       "  </thead>\n",
       "  <tbody>\n",
       "    <tr>\n",
       "      <th>0</th>\n",
       "      <td>540.0</td>\n",
       "      <td>0.0</td>\n",
       "      <td>0.0</td>\n",
       "      <td>162.0</td>\n",
       "      <td>2.5</td>\n",
       "      <td>1040.0</td>\n",
       "      <td>676.0</td>\n",
       "      <td>28</td>\n",
       "    </tr>\n",
       "    <tr>\n",
       "      <th>1</th>\n",
       "      <td>540.0</td>\n",
       "      <td>0.0</td>\n",
       "      <td>0.0</td>\n",
       "      <td>162.0</td>\n",
       "      <td>2.5</td>\n",
       "      <td>1055.0</td>\n",
       "      <td>676.0</td>\n",
       "      <td>28</td>\n",
       "    </tr>\n",
       "    <tr>\n",
       "      <th>2</th>\n",
       "      <td>332.5</td>\n",
       "      <td>142.5</td>\n",
       "      <td>0.0</td>\n",
       "      <td>228.0</td>\n",
       "      <td>0.0</td>\n",
       "      <td>932.0</td>\n",
       "      <td>594.0</td>\n",
       "      <td>270</td>\n",
       "    </tr>\n",
       "    <tr>\n",
       "      <th>3</th>\n",
       "      <td>332.5</td>\n",
       "      <td>142.5</td>\n",
       "      <td>0.0</td>\n",
       "      <td>228.0</td>\n",
       "      <td>0.0</td>\n",
       "      <td>932.0</td>\n",
       "      <td>594.0</td>\n",
       "      <td>365</td>\n",
       "    </tr>\n",
       "    <tr>\n",
       "      <th>4</th>\n",
       "      <td>198.6</td>\n",
       "      <td>132.4</td>\n",
       "      <td>0.0</td>\n",
       "      <td>192.0</td>\n",
       "      <td>0.0</td>\n",
       "      <td>978.4</td>\n",
       "      <td>825.5</td>\n",
       "      <td>360</td>\n",
       "    </tr>\n",
       "  </tbody>\n",
       "</table>\n",
       "</div>"
      ],
      "text/plain": [
       "   Cement  Blast Furnace Slag  Fly Ash  Water  Superplasticizer  \\\n",
       "0   540.0                 0.0      0.0  162.0               2.5   \n",
       "1   540.0                 0.0      0.0  162.0               2.5   \n",
       "2   332.5               142.5      0.0  228.0               0.0   \n",
       "3   332.5               142.5      0.0  228.0               0.0   \n",
       "4   198.6               132.4      0.0  192.0               0.0   \n",
       "\n",
       "   Coarse Aggregate  Fine Aggregate  Age  \n",
       "0            1040.0           676.0   28  \n",
       "1            1055.0           676.0   28  \n",
       "2             932.0           594.0  270  \n",
       "3             932.0           594.0  365  \n",
       "4             978.4           825.5  360  "
      ]
     },
     "execution_count": 13,
     "metadata": {},
     "output_type": "execute_result"
    }
   ],
   "source": [
    "predictors.head()"
   ]
  },
  {
   "cell_type": "code",
   "execution_count": 14,
   "id": "4632a5ab-eaa3-403a-a01c-7f95a40b5e1a",
   "metadata": {},
   "outputs": [
    {
     "data": {
      "text/plain": [
       "0    79.99\n",
       "1    61.89\n",
       "2    40.27\n",
       "3    41.05\n",
       "4    44.30\n",
       "Name: Strength, dtype: float64"
      ]
     },
     "execution_count": 14,
     "metadata": {},
     "output_type": "execute_result"
    }
   ],
   "source": [
    "target.head()"
   ]
  },
  {
   "cell_type": "markdown",
   "id": "cff9151b-50f3-42d6-8f36-7da632a9b2c3",
   "metadata": {},
   "source": [
    " Normalize the data by substracting the mean and dividing by the standard deviation."
   ]
  },
  {
   "cell_type": "code",
   "execution_count": 15,
   "id": "8537fcd8-1d35-47dd-b701-f6fbf6d4f910",
   "metadata": {},
   "outputs": [
    {
     "data": {
      "text/html": [
       "<div>\n",
       "<style scoped>\n",
       "    .dataframe tbody tr th:only-of-type {\n",
       "        vertical-align: middle;\n",
       "    }\n",
       "\n",
       "    .dataframe tbody tr th {\n",
       "        vertical-align: top;\n",
       "    }\n",
       "\n",
       "    .dataframe thead th {\n",
       "        text-align: right;\n",
       "    }\n",
       "</style>\n",
       "<table border=\"1\" class=\"dataframe\">\n",
       "  <thead>\n",
       "    <tr style=\"text-align: right;\">\n",
       "      <th></th>\n",
       "      <th>Cement</th>\n",
       "      <th>Blast Furnace Slag</th>\n",
       "      <th>Fly Ash</th>\n",
       "      <th>Water</th>\n",
       "      <th>Superplasticizer</th>\n",
       "      <th>Coarse Aggregate</th>\n",
       "      <th>Fine Aggregate</th>\n",
       "      <th>Age</th>\n",
       "    </tr>\n",
       "  </thead>\n",
       "  <tbody>\n",
       "    <tr>\n",
       "      <th>0</th>\n",
       "      <td>2.476712</td>\n",
       "      <td>-0.856472</td>\n",
       "      <td>-0.846733</td>\n",
       "      <td>-0.916319</td>\n",
       "      <td>-0.620147</td>\n",
       "      <td>0.862735</td>\n",
       "      <td>-1.217079</td>\n",
       "      <td>-0.279597</td>\n",
       "    </tr>\n",
       "    <tr>\n",
       "      <th>1</th>\n",
       "      <td>2.476712</td>\n",
       "      <td>-0.856472</td>\n",
       "      <td>-0.846733</td>\n",
       "      <td>-0.916319</td>\n",
       "      <td>-0.620147</td>\n",
       "      <td>1.055651</td>\n",
       "      <td>-1.217079</td>\n",
       "      <td>-0.279597</td>\n",
       "    </tr>\n",
       "    <tr>\n",
       "      <th>2</th>\n",
       "      <td>0.491187</td>\n",
       "      <td>0.795140</td>\n",
       "      <td>-0.846733</td>\n",
       "      <td>2.174405</td>\n",
       "      <td>-1.038638</td>\n",
       "      <td>-0.526262</td>\n",
       "      <td>-2.239829</td>\n",
       "      <td>3.551340</td>\n",
       "    </tr>\n",
       "    <tr>\n",
       "      <th>3</th>\n",
       "      <td>0.491187</td>\n",
       "      <td>0.795140</td>\n",
       "      <td>-0.846733</td>\n",
       "      <td>2.174405</td>\n",
       "      <td>-1.038638</td>\n",
       "      <td>-0.526262</td>\n",
       "      <td>-2.239829</td>\n",
       "      <td>5.055221</td>\n",
       "    </tr>\n",
       "    <tr>\n",
       "      <th>4</th>\n",
       "      <td>-0.790075</td>\n",
       "      <td>0.678079</td>\n",
       "      <td>-0.846733</td>\n",
       "      <td>0.488555</td>\n",
       "      <td>-1.038638</td>\n",
       "      <td>0.070492</td>\n",
       "      <td>0.647569</td>\n",
       "      <td>4.976069</td>\n",
       "    </tr>\n",
       "  </tbody>\n",
       "</table>\n",
       "</div>"
      ],
      "text/plain": [
       "     Cement  Blast Furnace Slag   Fly Ash     Water  Superplasticizer  \\\n",
       "0  2.476712           -0.856472 -0.846733 -0.916319         -0.620147   \n",
       "1  2.476712           -0.856472 -0.846733 -0.916319         -0.620147   \n",
       "2  0.491187            0.795140 -0.846733  2.174405         -1.038638   \n",
       "3  0.491187            0.795140 -0.846733  2.174405         -1.038638   \n",
       "4 -0.790075            0.678079 -0.846733  0.488555         -1.038638   \n",
       "\n",
       "   Coarse Aggregate  Fine Aggregate       Age  \n",
       "0          0.862735       -1.217079 -0.279597  \n",
       "1          1.055651       -1.217079 -0.279597  \n",
       "2         -0.526262       -2.239829  3.551340  \n",
       "3         -0.526262       -2.239829  5.055221  \n",
       "4          0.070492        0.647569  4.976069  "
      ]
     },
     "execution_count": 15,
     "metadata": {},
     "output_type": "execute_result"
    }
   ],
   "source": [
    "predictors_norm = (predictors - predictors.mean()) / predictors.std()\n",
    "predictors_norm.head()"
   ]
  },
  {
   "cell_type": "code",
   "execution_count": 16,
   "id": "87602e0e-5c14-40c0-9634-ce88dba9586a",
   "metadata": {},
   "outputs": [],
   "source": [
    "#Save the number of predictors to n_cols since we will need this number when building our network.\n",
    "\n",
    "n_cols = predictors_norm.shape[1] # number of predictors"
   ]
  },
  {
   "cell_type": "markdown",
   "id": "7882bd69-9f78-49e5-91ee-581bfaf8132f",
   "metadata": {},
   "source": [
    " import the Keras library\n"
   ]
  },
  {
   "cell_type": "code",
   "execution_count": 18,
   "id": "9c0ccc36-90f8-46f1-ac8f-e245c2fede5e",
   "metadata": {},
   "outputs": [],
   "source": [
    "import keras\n",
    "from keras.models import Sequential\n",
    "from keras.layers import Dense"
   ]
  },
  {
   "cell_type": "markdown",
   "id": "983492d2-4cac-4033-b3d3-8cfe5962c09d",
   "metadata": {},
   "source": [
    "## Build a Neural Network\n"
   ]
  },
  {
   "cell_type": "markdown",
   "id": "81e168f7-a25b-440e-8326-ca0fae37dcb2",
   "metadata": {},
   "source": [
    " # Build a baseline model (5 marks) \n",
    "\n",
    "Use the Keras library to build a neural network with the following:\n",
    "\n",
    "- One hidden layer of 10 nodes, and a ReLU activation function\n",
    "\n",
    "- Use the adam optimizer and the mean squared error  as the loss function."
   ]
  },
  {
   "cell_type": "code",
   "execution_count": 19,
   "id": "4b97863b-52ef-4f68-9b19-4b8719469585",
   "metadata": {},
   "outputs": [],
   "source": [
    "#define regression model\n",
    "n_cols = predictors_norm.shape[1]\n",
    "def regression_model():\n",
    "    # create model\n",
    "    model = Sequential()\n",
    "    model.add(Dense(10, activation='relu', input_shape=(n_cols,)))\n",
    "    model.add(Dense(1))\n",
    "    \n",
    "    # compile model\n",
    "    model.compile(optimizer='adam', loss='mean_squared_error')\n",
    "    return model"
   ]
  },
  {
   "cell_type": "markdown",
   "id": "c8c56022-593c-4fa5-8bb9-fb31f8df07f4",
   "metadata": {},
   "source": [
    "\n",
    "\n",
    "# build the model\n"
   ]
  },
  {
   "cell_type": "code",
   "execution_count": 20,
   "id": "0296d430-300e-4bcc-b9fe-feaf3b40ada1",
   "metadata": {},
   "outputs": [
    {
     "name": "stdout",
     "output_type": "stream",
     "text": [
      "WARNING:tensorflow:From /home/jupyterlab/conda/envs/python/lib/python3.7/site-packages/keras/backend/tensorflow_backend.py:68: The name tf.get_default_graph is deprecated. Please use tf.compat.v1.get_default_graph instead.\n",
      "\n",
      "WARNING:tensorflow:From /home/jupyterlab/conda/envs/python/lib/python3.7/site-packages/keras/backend/tensorflow_backend.py:508: The name tf.placeholder is deprecated. Please use tf.compat.v1.placeholder instead.\n",
      "\n",
      "WARNING:tensorflow:From /home/jupyterlab/conda/envs/python/lib/python3.7/site-packages/keras/backend/tensorflow_backend.py:3837: The name tf.random_uniform is deprecated. Please use tf.random.uniform instead.\n",
      "\n",
      "WARNING:tensorflow:From /home/jupyterlab/conda/envs/python/lib/python3.7/site-packages/keras/optimizers.py:757: The name tf.train.Optimizer is deprecated. Please use tf.compat.v1.train.Optimizer instead.\n",
      "\n"
     ]
    }
   ],
   "source": [
    "model = regression_model()"
   ]
  },
  {
   "cell_type": "markdown",
   "id": "b1671eb8-d3a8-4ff6-92a3-d0dc28b5588c",
   "metadata": {},
   "source": [
    "1. Randomly split the data into a training and test sets by holding 30% of the data for testing. You can use the train_test_splithelper function from Scikit-learn.\n",
    "\n",
    "2. Train the model on the training data using 50 epochs.\n",
    "\n",
    "3. Evaluate the model on the test data and compute the mean squared error between the predicted concrete strength and the actual concrete strength. You can use the mean_squared_error function from Scikit-learn.\n",
    "\n",
    "4. Repeat steps 1 - 3, 50 times, i.e., create a list of 50 mean squared errors.\n",
    "\n",
    "5. Report the mean and the standard deviation of the mean squared errors."
   ]
  },
  {
   "cell_type": "code",
   "execution_count": 24,
   "id": "4ec6d471-a777-4408-867b-102d2de3026e",
   "metadata": {},
   "outputs": [
    {
     "name": "stderr",
     "output_type": "stream",
     "text": [
      "/home/jupyterlab/conda/envs/python/lib/python3.7/site-packages/sklearn/utils/validation.py:37: DeprecationWarning: distutils Version classes are deprecated. Use packaging.version instead.\n",
      "  LARGE_SPARSE_SUPPORTED = LooseVersion(scipy_version) >= '0.14.0'\n"
     ]
    },
    {
     "name": "stdout",
     "output_type": "stream",
     "text": [
      "WARNING:tensorflow:From /home/jupyterlab/conda/envs/python/lib/python3.7/site-packages/keras/backend/tensorflow_backend.py:977: The name tf.assign_add is deprecated. Please use tf.compat.v1.assign_add instead.\n",
      "\n",
      "WARNING:tensorflow:From /home/jupyterlab/conda/envs/python/lib/python3.7/site-packages/keras/backend/tensorflow_backend.py:964: The name tf.assign is deprecated. Please use tf.compat.v1.assign instead.\n",
      "\n"
     ]
    },
    {
     "name": "stderr",
     "output_type": "stream",
     "text": [
      "2023-01-03 13:24:56.767000: I tensorflow/core/platform/cpu_feature_guard.cc:142] Your CPU supports instructions that this TensorFlow binary was not compiled to use: SSE4.1 SSE4.2 AVX AVX2 AVX512F FMA\n",
      "2023-01-03 13:24:56.774679: I tensorflow/core/platform/profile_utils/cpu_utils.cc:94] CPU Frequency: 2593900000 Hz\n",
      "2023-01-03 13:24:56.775582: I tensorflow/compiler/xla/service/service.cc:168] XLA service 0x56050cd57f50 executing computations on platform Host. Devices:\n",
      "2023-01-03 13:24:56.775651: I tensorflow/compiler/xla/service/service.cc:175]   StreamExecutor device (0): <undefined>, <undefined>\n",
      "2023-01-03 13:24:56.851234: W tensorflow/compiler/jit/mark_for_compilation_pass.cc:1412] (One-time warning): Not using XLA:CPU for cluster because envvar TF_XLA_FLAGS=--tf_xla_cpu_global_jit was not set.  If you want XLA:CPU, either set that envvar, or use experimental_jit_scope to enable XLA:CPU.  To confirm that XLA is active, pass --vmodule=xla_compilation_cache=1 (as a proper command-line flag, not via TF_XLA_FLAGS) or set the envvar XLA_FLAGS=--xla_hlo_profile.\n"
     ]
    },
    {
     "name": "stdout",
     "output_type": "stream",
     "text": [
      "Cycle #1: mean_squared_error 122.80638534891567\n",
      "Cycle #2: mean_squared_error 117.93663787841797\n",
      "Cycle #3: mean_squared_error 104.05118037350356\n",
      "Cycle #4: mean_squared_error 109.39853875613908\n",
      "Cycle #5: mean_squared_error 116.84879954810282\n",
      "Cycle #6: mean_squared_error 127.17034680017761\n",
      "Cycle #7: mean_squared_error 107.89928149868369\n",
      "Cycle #8: mean_squared_error 104.63978971709712\n",
      "Cycle #9: mean_squared_error 129.09735798758595\n",
      "Cycle #10: mean_squared_error 122.40755620666306\n",
      "Cycle #11: mean_squared_error 119.56229857410814\n",
      "Cycle #12: mean_squared_error 109.07729939581121\n",
      "Cycle #13: mean_squared_error 99.57946347727359\n",
      "Cycle #14: mean_squared_error 111.95750827233768\n",
      "Cycle #15: mean_squared_error 120.76868852288206\n",
      "Cycle #16: mean_squared_error 112.08090728463479\n",
      "Cycle #17: mean_squared_error 109.03682782812027\n",
      "Cycle #18: mean_squared_error 114.23226005282602\n",
      "Cycle #19: mean_squared_error 106.7397953021102\n",
      "Cycle #20: mean_squared_error 115.1193970615424\n",
      "Cycle #21: mean_squared_error 122.29361445849767\n",
      "Cycle #22: mean_squared_error 116.41186508623142\n",
      "Cycle #23: mean_squared_error 106.30735070188454\n",
      "Cycle #24: mean_squared_error 104.7305135387433\n",
      "Cycle #25: mean_squared_error 123.10093822294068\n",
      "Cycle #26: mean_squared_error 110.68959857730803\n",
      "Cycle #27: mean_squared_error 125.70809635298151\n",
      "Cycle #28: mean_squared_error 120.70903368212258\n",
      "Cycle #29: mean_squared_error 98.71594124704502\n",
      "Cycle #30: mean_squared_error 108.01184762257202\n",
      "Cycle #31: mean_squared_error 112.75499293256345\n",
      "Cycle #32: mean_squared_error 115.33163822507396\n",
      "Cycle #33: mean_squared_error 113.46723696020429\n",
      "Cycle #34: mean_squared_error 110.97386584235626\n",
      "Cycle #35: mean_squared_error 102.83173250611932\n",
      "Cycle #36: mean_squared_error 113.43551741911756\n",
      "Cycle #37: mean_squared_error 109.87421157985058\n",
      "Cycle #38: mean_squared_error 104.03487006128799\n",
      "Cycle #39: mean_squared_error 86.94824382942471\n",
      "Cycle #40: mean_squared_error 119.35135455579048\n",
      "Cycle #41: mean_squared_error 77.49928045427143\n",
      "Cycle #42: mean_squared_error 56.617443788398816\n",
      "Cycle #43: mean_squared_error 51.011474893316866\n",
      "Cycle #44: mean_squared_error 62.41176622508027\n",
      "Cycle #45: mean_squared_error 49.22830501420598\n",
      "Cycle #46: mean_squared_error 53.79077555832354\n",
      "Cycle #47: mean_squared_error 57.02572115802456\n",
      "Cycle #48: mean_squared_error 50.37839356209468\n",
      "Cycle #49: mean_squared_error 49.992550328325684\n",
      "Cycle #50: mean_squared_error 48.114833041688\n"
     ]
    }
   ],
   "source": [
    "from sklearn.model_selection import train_test_split\n",
    "list_of_mean_squared_error = []\n",
    "for cycle in range(50):\n",
    "    #Randomly split the data into a training set (70%) and a test set (30%):  \n",
    "    X_train, X_test, y_train, y_test = train_test_split(predictors, target, test_size=0.3)\n",
    "    #Train and test the model at the same time\n",
    "    res = model.fit(X_train, y_train, epochs=50, verbose=0, validation_data=(X_test, y_test))\n",
    "    #Find mean_squared_error as last value in history.\n",
    "    mean_squared_error = res.history['val_loss'][-1]\n",
    "    #Add value of mean_squared_error for every cycle in list.\n",
    "    list_of_mean_squared_error.append(mean_squared_error)\n",
    "    print('Cycle #{}: mean_squared_error {}'.format(cycle+1, mean_squared_error))"
   ]
  },
  {
   "cell_type": "markdown",
   "id": "ec22dab4-b242-4a8e-98fd-10ee184a0233",
   "metadata": {},
   "source": [
    "## B. Normalize the data \n",
    "\n",
    "Repeat Part A but use a normalized version of the data. Recall that one way to normalize the data is by subtracting the mean from the individual predictors and dividing by the standard deviation."
   ]
  },
  {
   "cell_type": "code",
   "execution_count": 25,
   "id": "d3940521-acff-4bd5-af08-d69c1bb27277",
   "metadata": {},
   "outputs": [
    {
     "data": {
      "text/html": [
       "<div>\n",
       "<style scoped>\n",
       "    .dataframe tbody tr th:only-of-type {\n",
       "        vertical-align: middle;\n",
       "    }\n",
       "\n",
       "    .dataframe tbody tr th {\n",
       "        vertical-align: top;\n",
       "    }\n",
       "\n",
       "    .dataframe thead th {\n",
       "        text-align: right;\n",
       "    }\n",
       "</style>\n",
       "<table border=\"1\" class=\"dataframe\">\n",
       "  <thead>\n",
       "    <tr style=\"text-align: right;\">\n",
       "      <th></th>\n",
       "      <th>Cement</th>\n",
       "      <th>Blast Furnace Slag</th>\n",
       "      <th>Fly Ash</th>\n",
       "      <th>Water</th>\n",
       "      <th>Superplasticizer</th>\n",
       "      <th>Coarse Aggregate</th>\n",
       "      <th>Fine Aggregate</th>\n",
       "      <th>Age</th>\n",
       "    </tr>\n",
       "  </thead>\n",
       "  <tbody>\n",
       "    <tr>\n",
       "      <th>0</th>\n",
       "      <td>2.476712</td>\n",
       "      <td>-0.856472</td>\n",
       "      <td>-0.846733</td>\n",
       "      <td>-0.916319</td>\n",
       "      <td>-0.620147</td>\n",
       "      <td>0.862735</td>\n",
       "      <td>-1.217079</td>\n",
       "      <td>-0.279597</td>\n",
       "    </tr>\n",
       "    <tr>\n",
       "      <th>1</th>\n",
       "      <td>2.476712</td>\n",
       "      <td>-0.856472</td>\n",
       "      <td>-0.846733</td>\n",
       "      <td>-0.916319</td>\n",
       "      <td>-0.620147</td>\n",
       "      <td>1.055651</td>\n",
       "      <td>-1.217079</td>\n",
       "      <td>-0.279597</td>\n",
       "    </tr>\n",
       "    <tr>\n",
       "      <th>2</th>\n",
       "      <td>0.491187</td>\n",
       "      <td>0.795140</td>\n",
       "      <td>-0.846733</td>\n",
       "      <td>2.174405</td>\n",
       "      <td>-1.038638</td>\n",
       "      <td>-0.526262</td>\n",
       "      <td>-2.239829</td>\n",
       "      <td>3.551340</td>\n",
       "    </tr>\n",
       "    <tr>\n",
       "      <th>3</th>\n",
       "      <td>0.491187</td>\n",
       "      <td>0.795140</td>\n",
       "      <td>-0.846733</td>\n",
       "      <td>2.174405</td>\n",
       "      <td>-1.038638</td>\n",
       "      <td>-0.526262</td>\n",
       "      <td>-2.239829</td>\n",
       "      <td>5.055221</td>\n",
       "    </tr>\n",
       "    <tr>\n",
       "      <th>4</th>\n",
       "      <td>-0.790075</td>\n",
       "      <td>0.678079</td>\n",
       "      <td>-0.846733</td>\n",
       "      <td>0.488555</td>\n",
       "      <td>-1.038638</td>\n",
       "      <td>0.070492</td>\n",
       "      <td>0.647569</td>\n",
       "      <td>4.976069</td>\n",
       "    </tr>\n",
       "    <tr>\n",
       "      <th>5</th>\n",
       "      <td>-0.145138</td>\n",
       "      <td>0.464818</td>\n",
       "      <td>-0.846733</td>\n",
       "      <td>2.174405</td>\n",
       "      <td>-1.038638</td>\n",
       "      <td>-0.526262</td>\n",
       "      <td>-1.291914</td>\n",
       "      <td>0.701883</td>\n",
       "    </tr>\n",
       "    <tr>\n",
       "      <th>6</th>\n",
       "      <td>0.945704</td>\n",
       "      <td>0.244603</td>\n",
       "      <td>-0.846733</td>\n",
       "      <td>2.174405</td>\n",
       "      <td>-1.038638</td>\n",
       "      <td>-0.526262</td>\n",
       "      <td>-2.239829</td>\n",
       "      <td>5.055221</td>\n",
       "    </tr>\n",
       "    <tr>\n",
       "      <th>7</th>\n",
       "      <td>0.945704</td>\n",
       "      <td>0.244603</td>\n",
       "      <td>-0.846733</td>\n",
       "      <td>2.174405</td>\n",
       "      <td>-1.038638</td>\n",
       "      <td>-0.526262</td>\n",
       "      <td>-2.239829</td>\n",
       "      <td>-0.279597</td>\n",
       "    </tr>\n",
       "    <tr>\n",
       "      <th>8</th>\n",
       "      <td>-0.145138</td>\n",
       "      <td>0.464818</td>\n",
       "      <td>-0.846733</td>\n",
       "      <td>2.174405</td>\n",
       "      <td>-1.038638</td>\n",
       "      <td>-0.526262</td>\n",
       "      <td>-1.291914</td>\n",
       "      <td>-0.279597</td>\n",
       "    </tr>\n",
       "    <tr>\n",
       "      <th>9</th>\n",
       "      <td>1.854740</td>\n",
       "      <td>-0.856472</td>\n",
       "      <td>-0.846733</td>\n",
       "      <td>2.174405</td>\n",
       "      <td>-1.038638</td>\n",
       "      <td>-0.526262</td>\n",
       "      <td>-2.239829</td>\n",
       "      <td>-0.279597</td>\n",
       "    </tr>\n",
       "  </tbody>\n",
       "</table>\n",
       "</div>"
      ],
      "text/plain": [
       "     Cement  Blast Furnace Slag   Fly Ash     Water  Superplasticizer  \\\n",
       "0  2.476712           -0.856472 -0.846733 -0.916319         -0.620147   \n",
       "1  2.476712           -0.856472 -0.846733 -0.916319         -0.620147   \n",
       "2  0.491187            0.795140 -0.846733  2.174405         -1.038638   \n",
       "3  0.491187            0.795140 -0.846733  2.174405         -1.038638   \n",
       "4 -0.790075            0.678079 -0.846733  0.488555         -1.038638   \n",
       "5 -0.145138            0.464818 -0.846733  2.174405         -1.038638   \n",
       "6  0.945704            0.244603 -0.846733  2.174405         -1.038638   \n",
       "7  0.945704            0.244603 -0.846733  2.174405         -1.038638   \n",
       "8 -0.145138            0.464818 -0.846733  2.174405         -1.038638   \n",
       "9  1.854740           -0.856472 -0.846733  2.174405         -1.038638   \n",
       "\n",
       "   Coarse Aggregate  Fine Aggregate       Age  \n",
       "0          0.862735       -1.217079 -0.279597  \n",
       "1          1.055651       -1.217079 -0.279597  \n",
       "2         -0.526262       -2.239829  3.551340  \n",
       "3         -0.526262       -2.239829  5.055221  \n",
       "4          0.070492        0.647569  4.976069  \n",
       "5         -0.526262       -1.291914  0.701883  \n",
       "6         -0.526262       -2.239829  5.055221  \n",
       "7         -0.526262       -2.239829 -0.279597  \n",
       "8         -0.526262       -1.291914 -0.279597  \n",
       "9         -0.526262       -2.239829 -0.279597  "
      ]
     },
     "execution_count": 25,
     "metadata": {},
     "output_type": "execute_result"
    }
   ],
   "source": [
    "predictors_norm = (predictors - predictors.mean())/predictors.std()\n",
    "predictors_norm.head(10)"
   ]
  },
  {
   "cell_type": "code",
   "execution_count": 26,
   "id": "ffec5710-7899-4377-a265-848b0c10bf6c",
   "metadata": {},
   "outputs": [],
   "source": [
    "#Build the model:\n",
    "\n",
    "n_cols = predictors_norm.shape[1]\n",
    "def regression_model2():\n",
    "    model2 = Sequential()\n",
    "    model2.add(Dense(10, activation='relu', input_shape=(n_cols,)))\n",
    "    model2.add(Dense(1))\n",
    "    \n",
    "    model2.compile(optimizer='adam', loss='mean_squared_error')\n",
    "    return model2\n",
    "\n",
    "model2 = regression_model2()"
   ]
  },
  {
   "cell_type": "markdown",
   "id": "be427002-4a8d-42f9-87db-5450b5bf0081",
   "metadata": {},
   "source": [
    "Train and test the model at the same time using the fit-method. We will leave out 30% of the data for validation and we will train the model for 50 epochs. And use predictors_norm instead of predictors.\n",
    "\n"
   ]
  },
  {
   "cell_type": "code",
   "execution_count": 27,
   "id": "7322ea69-48af-41d4-84d5-cc4c776ab3db",
   "metadata": {},
   "outputs": [
    {
     "name": "stdout",
     "output_type": "stream",
     "text": [
      "Cycle #1: mean_squared_error 400.35807192904275\n",
      "Cycle #2: mean_squared_error 155.15586319710445\n",
      "Cycle #3: mean_squared_error 109.77933326894025\n",
      "Cycle #4: mean_squared_error 66.5478954870724\n",
      "Cycle #5: mean_squared_error 62.23923136887041\n",
      "Cycle #6: mean_squared_error 50.17901590341118\n",
      "Cycle #7: mean_squared_error 46.50980532748028\n",
      "Cycle #8: mean_squared_error 44.4597361172673\n",
      "Cycle #9: mean_squared_error 46.475097211819254\n",
      "Cycle #10: mean_squared_error 44.276822951233505\n",
      "Cycle #11: mean_squared_error 36.41177732350371\n",
      "Cycle #12: mean_squared_error 36.334193498185535\n",
      "Cycle #13: mean_squared_error 33.32784205810152\n",
      "Cycle #14: mean_squared_error 38.16383208734704\n",
      "Cycle #15: mean_squared_error 40.76581047576608\n",
      "Cycle #16: mean_squared_error 35.08059235606765\n",
      "Cycle #17: mean_squared_error 30.66311375763038\n",
      "Cycle #18: mean_squared_error 34.2715177937233\n",
      "Cycle #19: mean_squared_error 33.69269516089973\n",
      "Cycle #20: mean_squared_error 30.25648192989016\n",
      "Cycle #21: mean_squared_error 34.5158963743537\n",
      "Cycle #22: mean_squared_error 33.06915989354204\n",
      "Cycle #23: mean_squared_error 31.074933308227934\n",
      "Cycle #24: mean_squared_error 29.968004615561476\n",
      "Cycle #25: mean_squared_error 30.663168218915132\n",
      "Cycle #26: mean_squared_error 35.83929419903308\n",
      "Cycle #27: mean_squared_error 33.057495154223396\n",
      "Cycle #28: mean_squared_error 33.4858354241331\n",
      "Cycle #29: mean_squared_error 30.838454891562847\n",
      "Cycle #30: mean_squared_error 30.36335967968197\n",
      "Cycle #31: mean_squared_error 29.570011768526243\n",
      "Cycle #32: mean_squared_error 34.31763976754494\n",
      "Cycle #33: mean_squared_error 30.525197884025697\n",
      "Cycle #34: mean_squared_error 31.69729046374077\n",
      "Cycle #35: mean_squared_error 28.292750590055892\n",
      "Cycle #36: mean_squared_error 32.55481110730217\n",
      "Cycle #37: mean_squared_error 31.91370367155106\n",
      "Cycle #38: mean_squared_error 29.77617503910003\n",
      "Cycle #39: mean_squared_error 23.244551025933816\n",
      "Cycle #40: mean_squared_error 30.21195453038879\n",
      "Cycle #41: mean_squared_error 29.432655531997433\n",
      "Cycle #42: mean_squared_error 27.635767112657863\n",
      "Cycle #43: mean_squared_error 33.021427833532435\n",
      "Cycle #44: mean_squared_error 36.25623582636268\n",
      "Cycle #45: mean_squared_error 28.00851797826082\n",
      "Cycle #46: mean_squared_error 27.3670856142507\n",
      "Cycle #47: mean_squared_error 27.501905003026078\n",
      "Cycle #48: mean_squared_error 28.513628796080557\n",
      "Cycle #49: mean_squared_error 29.830043768034013\n",
      "Cycle #50: mean_squared_error 29.14303530844284\n"
     ]
    }
   ],
   "source": [
    "list_of_mean_squared_error = []\n",
    "for cycle in range(50):\n",
    "    #Randomly split the data into a training set (70%) and a test set (30%):  \n",
    "    X_train, X_test, y_train, y_test = train_test_split(predictors_norm, target, test_size=0.3)\n",
    "    #Train and test the model at the same time\n",
    "    res = model2.fit(X_train, y_train, epochs=50, verbose=0, validation_data=(X_test, y_test))\n",
    "    #Find mean_squared_error as last value in history.\n",
    "    mean_squared_error = res.history['val_loss'][-1]\n",
    "    #Add value of mean_squared_error for every cycle in list.\n",
    "    list_of_mean_squared_error.append(mean_squared_error)\n",
    "    print('Cycle #{}: mean_squared_error {}'.format(cycle+1, mean_squared_error))"
   ]
  },
  {
   "cell_type": "markdown",
   "id": "aabb5241-8258-48d9-8fd6-e159e8de316e",
   "metadata": {},
   "source": [
    "Find the mean and the standard deviation of the mean squared errors:\n",
    "\n"
   ]
  },
  {
   "cell_type": "code",
   "execution_count": 29,
   "id": "e7e53542-b856-4e78-b41a-98922475f3b4",
   "metadata": {},
   "outputs": [
    {
     "name": "stdout",
     "output_type": "stream",
     "text": [
      "Mean of mean squared errors: 45.93277439166813\n",
      "Standard deviation of mean squared errors: 54.921107446377626\n"
     ]
    }
   ],
   "source": [
    "print('Mean of mean squared errors: {}'.format(np.mean(list_of_mean_squared_error)))\n",
    "print('Standard deviation of mean squared errors: {}'.format(np.std(list_of_mean_squared_error)))"
   ]
  },
  {
   "cell_type": "markdown",
   "id": "a379c8f2-b3af-4432-a0b1-8a0b76d8fdc7",
   "metadata": {},
   "source": [
    "### The Average and the standard deviation of the mean squared errors in case A is lower than in case B, but the difference is small. In my opinion, it is not useful to compare the results of two poor neutral networks with one hidden layer. Data normalization does not have significant impact on the results. Both case A and case B have large errors."
   ]
  },
  {
   "cell_type": "markdown",
   "id": "72b5ea3f-64d6-414b-8b1e-3ebaf6b70f73",
   "metadata": {},
   "source": [
    "# C. Increate the number of epochs (5 marks)\n",
    "\n",
    "Repeat Part B but use 100 epochs this time for training.\n",
    "\n",
    "How does the mean of the mean squared errors compare to that from Step B?"
   ]
  },
  {
   "cell_type": "code",
   "execution_count": 35,
   "id": "40f89bff-11c1-43e5-aa16-0f21edf9e0fb",
   "metadata": {},
   "outputs": [],
   "source": [
    "#Build the model:\n",
    "\n",
    "def regression_model3():\n",
    "    model3 = Sequential()\n",
    "    model3.add(Dense(10, activation='relu', input_shape=(n_cols,)))\n",
    "    model3.add(Dense(1))\n",
    "    \n",
    "    model3.compile(optimizer='adam', loss='mean_squared_error')\n",
    "    return model3\n",
    "\n",
    "model3 = regression_model3() "
   ]
  },
  {
   "cell_type": "code",
   "execution_count": 36,
   "id": "26a6ee18-da10-41eb-bbdf-a9e7bd633196",
   "metadata": {},
   "outputs": [
    {
     "name": "stdout",
     "output_type": "stream",
     "text": [
      "Cycle #1: mean_squared_error 156.5311630644073\n",
      "Cycle #2: mean_squared_error 98.96681814594947\n",
      "Cycle #3: mean_squared_error 57.842272835642\n",
      "Cycle #4: mean_squared_error 43.29311820218478\n",
      "Cycle #5: mean_squared_error 40.41866359278608\n",
      "Cycle #6: mean_squared_error 43.77438711271317\n",
      "Cycle #7: mean_squared_error 38.04487750599685\n",
      "Cycle #8: mean_squared_error 36.94570010533997\n",
      "Cycle #9: mean_squared_error 41.893891541317444\n",
      "Cycle #10: mean_squared_error 40.37571354591345\n",
      "Cycle #11: mean_squared_error 42.059506141637904\n",
      "Cycle #12: mean_squared_error 35.3779560694031\n",
      "Cycle #13: mean_squared_error 35.991734217671514\n",
      "Cycle #14: mean_squared_error 38.16725350660799\n",
      "Cycle #15: mean_squared_error 33.162761274664916\n",
      "Cycle #16: mean_squared_error 40.10676926548041\n",
      "Cycle #17: mean_squared_error 33.82246095231436\n",
      "Cycle #18: mean_squared_error 36.3585885489257\n",
      "Cycle #19: mean_squared_error 35.827501315515015\n",
      "Cycle #20: mean_squared_error 40.26225137556255\n",
      "Cycle #21: mean_squared_error 34.29345342642281\n",
      "Cycle #22: mean_squared_error 31.99972879230783\n",
      "Cycle #23: mean_squared_error 37.3675791916338\n",
      "Cycle #24: mean_squared_error 34.77070327561264\n",
      "Cycle #25: mean_squared_error 39.31274641215994\n",
      "Cycle #26: mean_squared_error 36.49069741011437\n",
      "Cycle #27: mean_squared_error 38.61463606010363\n",
      "Cycle #28: mean_squared_error 33.27390639913121\n",
      "Cycle #29: mean_squared_error 36.030307646322406\n",
      "Cycle #30: mean_squared_error 35.152317010083244\n",
      "Cycle #31: mean_squared_error 36.7255042980404\n",
      "Cycle #32: mean_squared_error 39.53229279502696\n",
      "Cycle #33: mean_squared_error 32.204961221194964\n",
      "Cycle #34: mean_squared_error 37.2152969212208\n",
      "Cycle #35: mean_squared_error 34.57874387599118\n",
      "Cycle #36: mean_squared_error 38.13104257923114\n",
      "Cycle #37: mean_squared_error 29.19550869765791\n",
      "Cycle #38: mean_squared_error 39.66377123737026\n",
      "Cycle #39: mean_squared_error 30.705533722071973\n",
      "Cycle #40: mean_squared_error 31.529106350006796\n",
      "Cycle #41: mean_squared_error 39.18912467215825\n",
      "Cycle #42: mean_squared_error 35.445056557269545\n",
      "Cycle #43: mean_squared_error 36.12393069961696\n",
      "Cycle #44: mean_squared_error 39.13917006952477\n",
      "Cycle #45: mean_squared_error 38.174549584249846\n",
      "Cycle #46: mean_squared_error 31.13181434557276\n",
      "Cycle #47: mean_squared_error 36.46045957645552\n",
      "Cycle #48: mean_squared_error 31.76389774458308\n",
      "Cycle #49: mean_squared_error 30.985722489341562\n",
      "Cycle #50: mean_squared_error 36.649122355439516\n"
     ]
    }
   ],
   "source": [
    "# fit the model\n",
    "list_of_mean_squared_error = []\n",
    "for cycle in range(50):\n",
    "    #Randomly split the data into a training set (70%) and a test set (30%):  \n",
    "    X_train, X_test, y_train, y_test = train_test_split(predictors_norm, target, test_size=0.3)\n",
    "    #Train and test the model at the same time\n",
    "    res = model3.fit(X_train, y_train, epochs=100, verbose=0, validation_data=(X_test, y_test))\n",
    "    #Find mean_squared_error as last value in history.\n",
    "    mean_squared_error = res.history['val_loss'][-1]\n",
    "    #Add value of mean_squared_error for every cycle in list.\n",
    "    list_of_mean_squared_error.append(mean_squared_error)\n",
    "    print('Cycle #{}: mean_squared_error {}'.format(cycle+1, mean_squared_error))"
   ]
  },
  {
   "cell_type": "markdown",
   "id": "41720fcd-97b4-4b4a-8506-b2c7d4717e1f",
   "metadata": {},
   "source": [
    "Find the mean and the standard deviation of the mean squared errors:\n",
    "\n"
   ]
  },
  {
   "cell_type": "code",
   "execution_count": 37,
   "id": "47d07524-5ba3-4b6c-9221-da2b94d41d3b",
   "metadata": {},
   "outputs": [
    {
     "name": "stdout",
     "output_type": "stream",
     "text": [
      "The mean of the mean squared errors: 40.621481474719\n",
      "The standard deviation of the mean squared errors: 19.218660553708315\n"
     ]
    }
   ],
   "source": [
    "print('The mean of the mean squared errors: {}'.format(np.mean(list_of_mean_squared_error)))\n",
    "print('The standard deviation of the mean squared errors: {}'.format(np.std(list_of_mean_squared_error)))"
   ]
  },
  {
   "cell_type": "markdown",
   "id": "b8464e5e-84f0-4f73-99ad-0013cb12652e",
   "metadata": {},
   "source": [
    "### The mean squared error in case C is larger than in case B, and both errors are quite significant. Comparing the results of two poorly-performing neural networks with only one hidden layer is not particularly useful. The number of epochs does not improve the outcome."
   ]
  },
  {
   "cell_type": "markdown",
   "id": "fb13ebe8-ff9b-4b62-94a0-107ec0c1d07b",
   "metadata": {},
   "source": [
    "## D. Increase the number of hidden layers (5 marks)\n",
    "Repeat part B but use a neural network with the following instead:\n",
    "\n",
    "Three hidden layers, each of 10 nodes and ReLU activation function.\n",
    "How does the mean of the mean squared errors compare to that from Step B?\n",
    "\n",
    "Create a new model with three hidden layers, each of 10 nodes and ReLU activation function."
   ]
  },
  {
   "cell_type": "code",
   "execution_count": 38,
   "id": "138a81a6-32d6-40d2-87d9-458efc13b45c",
   "metadata": {},
   "outputs": [],
   "source": [
    "def regression_model4():\n",
    "    model4 = Sequential()\n",
    "    model4.add(Dense(10, activation='relu', input_shape=(n_cols,)))\n",
    "    model4.add(Dense(10, activation='relu'))\n",
    "    model4.add(Dense(10, activation='relu'))\n",
    "    model4.add(Dense(1))\n",
    "    \n",
    "    model4.compile(optimizer='adam', loss='mean_squared_error')\n",
    "    return model4"
   ]
  },
  {
   "cell_type": "markdown",
   "id": "74f16103-9469-4f2a-ab3f-c18eaa6f8843",
   "metadata": {},
   "source": [
    "Build a new model with 3 hidden layers:\n",
    "\n"
   ]
  },
  {
   "cell_type": "code",
   "execution_count": 39,
   "id": "d288ce1a-5985-40c8-b2e2-6e6a8bd468e4",
   "metadata": {},
   "outputs": [],
   "source": [
    "model4 = regression_model4()"
   ]
  },
  {
   "cell_type": "markdown",
   "id": "1412e00c-8e1d-4e3c-b8cf-243c8ae53a26",
   "metadata": {},
   "source": [
    "Train and test the model at the same time using the fit-method. We will leave out 30% of the data (data after normalization) for validation and we will train the model for 50 epochs and use three hidden layers, each of 10 nodes and ReLU activation function."
   ]
  },
  {
   "cell_type": "code",
   "execution_count": 40,
   "id": "a88ef270-9cc3-4885-8252-40fa9383e69e",
   "metadata": {},
   "outputs": [
    {
     "name": "stdout",
     "output_type": "stream",
     "text": [
      "Cycle #1: mean_squared_error 104.72520199871371\n",
      "Cycle #2: mean_squared_error 82.36005305318\n",
      "Cycle #3: mean_squared_error 64.5602930309703\n",
      "Cycle #4: mean_squared_error 57.55586790807039\n",
      "Cycle #5: mean_squared_error 49.13276553848415\n",
      "Cycle #6: mean_squared_error 38.595694582053376\n",
      "Cycle #7: mean_squared_error 37.53847286384854\n",
      "Cycle #8: mean_squared_error 38.68952650545484\n",
      "Cycle #9: mean_squared_error 34.17565351319544\n",
      "Cycle #10: mean_squared_error 29.477356537260285\n",
      "Cycle #11: mean_squared_error 39.58683784262648\n",
      "Cycle #12: mean_squared_error 33.296815779602646\n",
      "Cycle #13: mean_squared_error 32.60351004492504\n",
      "Cycle #14: mean_squared_error 32.04151560959307\n",
      "Cycle #15: mean_squared_error 39.17422777935139\n",
      "Cycle #16: mean_squared_error 35.83408926065686\n",
      "Cycle #17: mean_squared_error 30.33158486869343\n",
      "Cycle #18: mean_squared_error 33.44070420373219\n",
      "Cycle #19: mean_squared_error 33.31405895196119\n",
      "Cycle #20: mean_squared_error 30.26710223225714\n",
      "Cycle #21: mean_squared_error 33.68267664863068\n",
      "Cycle #22: mean_squared_error 30.77983546951442\n",
      "Cycle #23: mean_squared_error 29.5424716788974\n",
      "Cycle #24: mean_squared_error 29.44412708591103\n",
      "Cycle #25: mean_squared_error 25.637845073317248\n",
      "Cycle #26: mean_squared_error 35.25358443275624\n",
      "Cycle #27: mean_squared_error 28.33900042413508\n",
      "Cycle #28: mean_squared_error 26.49203388744959\n",
      "Cycle #29: mean_squared_error 30.28784241413993\n",
      "Cycle #30: mean_squared_error 24.359674929029346\n",
      "Cycle #31: mean_squared_error 32.565123906799116\n",
      "Cycle #32: mean_squared_error 24.78199366844202\n",
      "Cycle #33: mean_squared_error 29.27875634844635\n",
      "Cycle #34: mean_squared_error 28.80948766072591\n",
      "Cycle #35: mean_squared_error 28.456248317335803\n",
      "Cycle #36: mean_squared_error 25.941209577048095\n",
      "Cycle #37: mean_squared_error 29.4481714921476\n",
      "Cycle #38: mean_squared_error 33.48094030954305\n",
      "Cycle #39: mean_squared_error 27.824008373766656\n",
      "Cycle #40: mean_squared_error 24.82293594385042\n",
      "Cycle #41: mean_squared_error 26.876286608501545\n",
      "Cycle #42: mean_squared_error 28.28149095553796\n",
      "Cycle #43: mean_squared_error 27.48273048894691\n",
      "Cycle #44: mean_squared_error 23.56253014104652\n",
      "Cycle #45: mean_squared_error 29.75726336877323\n",
      "Cycle #46: mean_squared_error 24.30039736368124\n",
      "Cycle #47: mean_squared_error 24.89198023601643\n",
      "Cycle #48: mean_squared_error 26.42153921096456\n",
      "Cycle #49: mean_squared_error 28.897908485437288\n",
      "Cycle #50: mean_squared_error 30.062224539352467\n"
     ]
    }
   ],
   "source": [
    "list_of_mean_squared_error = []\n",
    "for cycle in range(50):\n",
    "    #Randomly split the data into a training set (70%) and a test set (30%):  \n",
    "    X_train, X_test, y_train, y_test = train_test_split(predictors_norm, target, test_size=0.3)\n",
    "    #Train and test the model at the same time\n",
    "    res = model4.fit(X_train, y_train, epochs=50, verbose=0, validation_data=(X_test, y_test))\n",
    "    #Find mean_squared_error as last value in history.\n",
    "    mean_squared_error = res.history['val_loss'][-1]\n",
    "    #Add value of mean_squared_error for every cycle in list.\n",
    "    list_of_mean_squared_error.append(mean_squared_error)\n",
    "    print('Cycle #{}: mean_squared_error {}'.format(cycle+1, mean_squared_error))"
   ]
  },
  {
   "cell_type": "markdown",
   "id": "af3a9694-8814-414a-9b6c-10b0bf238b29",
   "metadata": {},
   "source": [
    "Find the mean and the standard deviation of the mean squared errors:"
   ]
  },
  {
   "cell_type": "code",
   "execution_count": 41,
   "id": "d5aa74a2-7c68-47f5-a2d6-db35951b810f",
   "metadata": {},
   "outputs": [
    {
     "name": "stdout",
     "output_type": "stream",
     "text": [
      "The mean of the mean squared errors: 34.52927302289549\n",
      "The standard deviation of the mean squared errors: 14.448781645678157\n"
     ]
    }
   ],
   "source": [
    "print('The mean of the mean squared errors: {}'.format(np.mean(list_of_mean_squared_error)))\n",
    "print('The standard deviation of the mean squared errors: {}'.format(np.std(list_of_mean_squared_error)))"
   ]
  },
  {
   "cell_type": "markdown",
   "id": "8e2030f6-19b5-469c-87c7-f13f5e6b2595",
   "metadata": {},
   "source": [
    "### The mean squared error in case D is lower than in cases A, B, and C, and is the only case where the error is relatively small. This suggests that adding layers to the neural network is more important than other factors. The comparison between poorly-performing neural networks with one hidden layer in previous cases was not reliable and produced unpredictable results."
   ]
  },
  {
   "cell_type": "code",
   "execution_count": null,
   "id": "43179299-e684-4068-93f3-4237c20e6233",
   "metadata": {},
   "outputs": [],
   "source": []
  }
 ],
 "metadata": {
  "kernelspec": {
   "display_name": "Python",
   "language": "python",
   "name": "conda-env-python-py"
  },
  "language_info": {
   "codemirror_mode": {
    "name": "ipython",
    "version": 3
   },
   "file_extension": ".py",
   "mimetype": "text/x-python",
   "name": "python",
   "nbconvert_exporter": "python",
   "pygments_lexer": "ipython3",
   "version": "3.7.12"
  }
 },
 "nbformat": 4,
 "nbformat_minor": 5
}
